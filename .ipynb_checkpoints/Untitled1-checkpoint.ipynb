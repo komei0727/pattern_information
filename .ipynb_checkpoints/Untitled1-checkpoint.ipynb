{
 "cells": [
  {
   "cell_type": "code",
   "execution_count": 1,
   "metadata": {},
   "outputs": [],
   "source": [
    "import pandas as pd\n",
    "import numpy as np\n",
    "from module import Linear_multiple_regression, normalization"
   ]
  },
  {
   "cell_type": "code",
   "execution_count": 2,
   "metadata": {},
   "outputs": [],
   "source": [
    "auto_mpg_data =  pd.read_csv(\"auto-mpg.csv\", encoding=\"utf-8\").sample(frac = 1)\n",
    "test_data = pd.read_csv(\"auto-mpg-test.csv\", encoding=\"utf-8\").sample(frac = 1)"
   ]
  },
  {
   "cell_type": "code",
   "execution_count": 3,
   "metadata": {},
   "outputs": [],
   "source": [
    "mpg = auto_mpg_data.loc[:, \"mpg\"].values\n",
    "inputs_all = auto_mpg_data.loc[:, [\"cylinders\", \"displacement\", \"weight\", \"acceleration\", \"model_year\", \"origin\"]].values\n",
    "mpg_test = test_data.loc[:, \"mpg\"].values\n",
    "inputs_all_test = test_data.loc[:, [\"cylinders\", \"displacement\", \"weight\", \"acceleration\", \"model_year\", \"origin\"]].values"
   ]
  },
  {
   "cell_type": "code",
   "execution_count": 4,
   "metadata": {},
   "outputs": [],
   "source": [
    "mpg_n = normalization.normalization(mpg)\n",
    "inputs_all_n = normalization.normalization(inputs_all)\n",
    "inputs_all_test_n = normalization.normalization(inputs_all_test)"
   ]
  },
  {
   "cell_type": "code",
   "execution_count": 5,
   "metadata": {},
   "outputs": [],
   "source": [
    "w_all = Linear_multiple_regression.Linear_multiple_regression(inputs_all_n, mpg_n)"
   ]
  },
  {
   "cell_type": "code",
   "execution_count": 6,
   "metadata": {},
   "outputs": [],
   "source": [
    "s_all = np.sum(np.power(mpg_n - np.mean(mpg_n), 2))\n",
    "s_res = np.sum(np.power(mpg_n - np.dot(inputs_all_n, w_all.T), 2))"
   ]
  },
  {
   "cell_type": "code",
   "execution_count": 7,
   "metadata": {},
   "outputs": [],
   "source": [
    "R = 1 - (s_res / (len(mpg_n) - 6 - 1)) / (s_all / (len(mpg_n) - 1))"
   ]
  },
  {
   "cell_type": "code",
   "execution_count": 8,
   "metadata": {},
   "outputs": [],
   "source": [
    "mpg_predict = np.dot(inputs_all_test_n, w_all.T) * np.std(mpg) + np.mean(mpg)"
   ]
  }
 ],
 "metadata": {
  "kernelspec": {
   "display_name": "Python 3",
   "language": "python",
   "name": "python3"
  },
  "language_info": {
   "codemirror_mode": {
    "name": "ipython",
    "version": 3
   },
   "file_extension": ".py",
   "mimetype": "text/x-python",
   "name": "python",
   "nbconvert_exporter": "python",
   "pygments_lexer": "ipython3",
   "version": "3.7.3"
  }
 },
 "nbformat": 4,
 "nbformat_minor": 2
}
